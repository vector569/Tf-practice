{
 "cells": [
  {
   "cell_type": "code",
   "execution_count": 1,
   "metadata": {
    "collapsed": true
   },
   "outputs": [],
   "source": [
    "import numpy as np\n",
    "import cv2"
   ]
  },
  {
   "cell_type": "code",
   "execution_count": 2,
   "metadata": {
    "collapsed": true
   },
   "outputs": [],
   "source": [
    "nsamples = 1000\n",
    "nvar = 5;\n",
    "nfact = 2;\n",
    "## F3 = F1 + F2\n",
    "## F4 = F3\n",
    "## F5 = F4 - F2\n",
    "\n",
    "# Creating a 5X1000 data matrix\n",
    "F = np.zeros(shape=(nvar,nsamples));\n",
    "F[0,:] = np.random.random(nsamples)*500+500;\n",
    "F[1,:] = np.random.random(nsamples)*300+300;\n",
    "F[2,:] = F[0,:] + F[1,:]; + np.random.random(nsamples)*40-20;\n",
    "F[3,:] = F[2,:] + np.random.random(nsamples)*40-20;\n",
    "F[4,:] = F[3,:] - F[1,:] + np.random.random(nsamples)*40-20;\n",
    "\n",
    "# Transposing F\n",
    "#F = np.transpose(F);"
   ]
  },
  {
   "cell_type": "code",
   "execution_count": 3,
   "metadata": {
    "collapsed": true
   },
   "outputs": [],
   "source": [
    "U, S, V = np.linalg.svd(F,full_matrices=False)\n",
    "#np.matmul(np.matmul(U,np.diag(S)),V) - F"
   ]
  },
  {
   "cell_type": "code",
   "execution_count": 4,
   "metadata": {
    "collapsed": true
   },
   "outputs": [],
   "source": [
    "#U.shape,S.shape,V.shape"
   ]
  },
  {
   "cell_type": "code",
   "execution_count": 5,
   "metadata": {
    "collapsed": true
   },
   "outputs": [],
   "source": [
    "Amat = np.zeros(shape=(nvar-nfact,nvar));\n",
    "#Amat[0,:] = U[:,2].T\n",
    "#Amat[1,:] = U[:,3].T\n",
    "#Amat[2,:] = U[:,4].T\n",
    "\n",
    "Amat[:nvar-nfact,:] = U[:,nfact:nvar].T\n",
    "\n",
    "Aindep = Amat[:,0:2]\n",
    "Adep = Amat[:,2:5]"
   ]
  },
  {
   "cell_type": "code",
   "execution_count": 6,
   "metadata": {
    "collapsed": true
   },
   "outputs": [],
   "source": [
    "reg = -np.matmul((np.linalg.inv(np.matmul(Adep.T,Adep))),(np.matmul(Adep.T,Aindep)))\n",
    "#reg"
   ]
  },
  {
   "cell_type": "code",
   "execution_count": 8,
   "metadata": {},
   "outputs": [],
   "source": [
    "W2 = V.T[:, :2]\n",
    "F2D = F.dot(W2)"
   ]
  },
  {
   "cell_type": "code",
   "execution_count": 9,
   "metadata": {
    "collapsed": true
   },
   "outputs": [],
   "source": [
    "from sklearn.decomposition import PCA\n",
    "pca = PCA(n_components = 2)\n",
    "X2D = pca.fit_transform(F)"
   ]
  },
  {
   "cell_type": "code",
   "execution_count": 10,
   "metadata": {
    "collapsed": true
   },
   "outputs": [],
   "source": [
    "#pca.components_.T[:,0] "
   ]
  },
  {
   "cell_type": "code",
   "execution_count": 11,
   "metadata": {
    "collapsed": true
   },
   "outputs": [],
   "source": [
    "#print(pca.explained_variance_ratio_)"
   ]
  },
  {
   "cell_type": "code",
   "execution_count": 12,
   "metadata": {
    "collapsed": true
   },
   "outputs": [],
   "source": [
    "pca = PCA()\n",
    "pca.fit(F)\n",
    "cumsum = np.cumsum(pca.explained_variance_ratio_)\n",
    "d = np.argmax(cumsum >= 0.99) + 1\n",
    "#print(d,cumsum)"
   ]
  },
  {
   "cell_type": "code",
   "execution_count": 13,
   "metadata": {
    "collapsed": true
   },
   "outputs": [],
   "source": [
    "pca = PCA(n_components=0.95)\n",
    "F_reduced = pca.fit_transform(F)"
   ]
  },
  {
   "cell_type": "code",
   "execution_count": 14,
   "metadata": {
    "collapsed": true
   },
   "outputs": [],
   "source": [
    "pca = PCA(n_components = 2)\n",
    "F_reduced = pca.fit_transform(F)\n",
    "F_recovered = pca.inverse_transform(F_reduced)"
   ]
  },
  {
   "cell_type": "code",
   "execution_count": 82,
   "metadata": {
    "collapsed": true
   },
   "outputs": [],
   "source": [
    "img = cv2.imread(\"./a.png\",0);"
   ]
  },
  {
   "cell_type": "code",
   "execution_count": 83,
   "metadata": {},
   "outputs": [
    {
     "data": {
      "text/plain": [
       "41"
      ]
     },
     "execution_count": 83,
     "metadata": {},
     "output_type": "execute_result"
    }
   ],
   "source": [
    "pca = PCA()\n",
    "pca.fit(img)\n",
    "cumsum = np.cumsum(pca.explained_variance_ratio_)\n",
    "d = np.argmax(cumsum >= 0.95) + 1\n",
    "d"
   ]
  },
  {
   "cell_type": "code",
   "execution_count": 84,
   "metadata": {},
   "outputs": [],
   "source": [
    "pca = PCA(n_components = d)\n",
    "F_reduced = pca.fit_transform(img)\n",
    "F_recovered = pca.inverse_transform(F_reduced)"
   ]
  },
  {
   "cell_type": "code",
   "execution_count": 85,
   "metadata": {},
   "outputs": [
    {
     "data": {
      "text/plain": [
       "True"
      ]
     },
     "execution_count": 85,
     "metadata": {},
     "output_type": "execute_result"
    }
   ],
   "source": [
    "cv2.imwrite('b.png',F_recovered)"
   ]
  },
  {
   "cell_type": "code",
   "execution_count": 103,
   "metadata": {},
   "outputs": [],
   "source": [
    "from sklearn.decomposition import IncrementalPCA\n",
    "n_batches = 12\n",
    "inc_pca = IncrementalPCA(n_components=d)\n",
    "for X_batch in np.array_split(img, n_batches):\n",
    "    inc_pca.partial_fit(X_batch)\n",
    "    \n",
    "F_reduced = inc_pca.transform(img)"
   ]
  },
  {
   "cell_type": "code",
   "execution_count": 104,
   "metadata": {},
   "outputs": [
    {
     "data": {
      "text/plain": [
       "True"
      ]
     },
     "execution_count": 104,
     "metadata": {},
     "output_type": "execute_result"
    }
   ],
   "source": [
    "F_recovered = inc_pca.inverse_transform(F_reduced)\n",
    "cv2.imwrite('c.png',F_recovered)"
   ]
  },
  {
   "cell_type": "code",
   "execution_count": null,
   "metadata": {
    "collapsed": true
   },
   "outputs": [],
   "source": []
  }
 ],
 "metadata": {
  "kernelspec": {
   "display_name": "Python 3",
   "language": "python",
   "name": "python3"
  },
  "language_info": {
   "codemirror_mode": {
    "name": "ipython",
    "version": 3
   },
   "file_extension": ".py",
   "mimetype": "text/x-python",
   "name": "python",
   "nbconvert_exporter": "python",
   "pygments_lexer": "ipython3",
   "version": "3.6.3"
  }
 },
 "nbformat": 4,
 "nbformat_minor": 2
}
