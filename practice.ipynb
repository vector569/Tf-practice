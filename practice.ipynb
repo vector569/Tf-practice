{
 "cells": [
  {
   "cell_type": "code",
   "execution_count": 1,
   "metadata": {
    "collapsed": true
   },
   "outputs": [],
   "source": [
    "import numpy as np\n",
    "import pandas as pd"
   ]
  },
  {
   "cell_type": "code",
   "execution_count": 2,
   "metadata": {
    "collapsed": true
   },
   "outputs": [],
   "source": [
    "train_data = pd.read_csv(\"./datasets/titanic/train.csv\").drop([\"PassengerId\",\"Ticket\",\"Name\",\"Cabin\"],axis=1)\n",
    "test_data = pd.read_csv(\"./datasets/titanic/test.csv\").drop([\"PassengerId\",\"Ticket\",\"Name\",\"Cabin\"],axis=1)"
   ]
  },
  {
   "cell_type": "code",
   "execution_count": 3,
   "metadata": {},
   "outputs": [
    {
     "name": "stdout",
     "output_type": "stream",
     "text": [
      "['Survived', 'Pclass', 'Sex', 'Age', 'SibSp', 'Parch', 'Fare', 'Embarked']\n"
     ]
    }
   ],
   "source": [
    "print(list(train_data.keys()))\n",
    "#len(train_data)"
   ]
  },
  {
   "cell_type": "code",
   "execution_count": 4,
   "metadata": {
    "collapsed": true
   },
   "outputs": [],
   "source": [
    "k = 0\n",
    "ind1 = []\n",
    "for i in train_data[\"Embarked\"]:\n",
    "    if i != \"S\" and i != \"C\" and i != \"Q\":\n",
    "        ind1.append(k)\n",
    "    k += 1\n",
    "train_data = train_data.drop(ind1)"
   ]
  },
  {
   "cell_type": "code",
   "execution_count": 5,
   "metadata": {
    "collapsed": true
   },
   "outputs": [],
   "source": [
    "Xtr = train_data[['Pclass', 'Sex', 'Age', 'SibSp', 'Parch', 'Fare', 'Embarked']].iloc[0:711]\n",
    "Ytr = train_data[['Survived']].iloc[0:711]\n",
    "Xte = train_data[['Pclass', 'Sex', 'Age', 'SibSp', 'Parch', 'Fare', 'Embarked']].iloc[711:887]\n",
    "Yte = train_data[['Survived']].iloc[711:887]"
   ]
  },
  {
   "cell_type": "code",
   "execution_count": 6,
   "metadata": {
    "collapsed": true
   },
   "outputs": [],
   "source": [
    "from sklearn.base import BaseEstimator, TransformerMixin\n",
    "from sklearn.utils import check_array\n",
    "from sklearn.preprocessing import LabelEncoder\n",
    "from scipy import sparse\n",
    "class CategoricalEncoder(BaseEstimator, TransformerMixin):\n",
    "    def __init__(self, encoding='onehot', categories='auto', dtype=np.float64,handle_unknown='error'):\n",
    "        self.encoding = encoding\n",
    "        self.categories = categories\n",
    "        self.dtype = dtype\n",
    "        self.handle_unknown = handle_unknown\n",
    "    def fit(self, X, y=None):\n",
    "        if self.encoding not in ['onehot', 'onehot-dense', 'ordinal']:\n",
    "            template = (\"encoding should be either 'onehot', 'onehot-dense' \"\"or 'ordinal', got %s\")\n",
    "            raise ValueError(template % self.handle_unknown)\n",
    "        if self.handle_unknown not in ['error', 'ignore']:\n",
    "            template = (\"handle_unknown should be either 'error' or \"\"'ignore', got %s\")\n",
    "            raise ValueError(template % self.handle_unknown)\n",
    "        if self.encoding == 'ordinal' and self.handle_unknown == 'ignore':\n",
    "            raise ValueError(\"handle_unknown='ignore' is not supported for\"\" encoding='ordinal'\")\n",
    "        X = check_array(X, dtype=np.object, accept_sparse='csc', copy=True)\n",
    "        n_samples, n_features = X.shape\n",
    "        self._label_encoders_ = [LabelEncoder() for _ in range(n_features)]\n",
    "        for i in range(n_features):\n",
    "            le = self._label_encoders_[i]\n",
    "            Xi = X[:, i]\n",
    "            if self.categories == 'auto':\n",
    "                le.fit(Xi)\n",
    "            else:\n",
    "                valid_mask = np.in1d(Xi, self.categories[i])\n",
    "                if not np.all(valid_mask):\n",
    "                    if self.handle_unknown == 'error':\n",
    "                        diff = np.unique(Xi[~valid_mask])\n",
    "                        msg = (\"Found unknown categories {0} in column {1}\"\" during fit\".format(diff, i))\n",
    "                        raise ValueError(msg)\n",
    "                le.classes_ = np.array(np.sort(self.categories[i]))\n",
    "        self.categories_ = [le.classes_ for le in self._label_encoders_]\n",
    "        return self\n",
    "    def transform(self, X):\n",
    "        X = check_array(X, accept_sparse='csc', dtype=np.object, copy=True)\n",
    "        n_samples, n_features = X.shape\n",
    "        X_int = np.zeros_like(X, dtype=np.int)\n",
    "        X_mask = np.ones_like(X, dtype=np.bool)\n",
    "        for i in range(n_features):\n",
    "            valid_mask = np.in1d(X[:, i], self.categories_[i])\n",
    "            if not np.all(valid_mask):\n",
    "                if self.handle_unknown == 'error':\n",
    "                    diff = np.unique(X[~valid_mask, i])\n",
    "                    msg = (\"Found unknown categories {0} in column {1}\"\" during transform\".format(diff, i))\n",
    "                    raise ValueError(msg)\n",
    "                else:\n",
    "                    X_mask[:, i] = valid_mask\n",
    "                    X[:, i][~valid_mask] = self.categories_[i][0]\n",
    "            X_int[:, i] = self._label_encoders_[i].transform(X[:, i])\n",
    "        if self.encoding == 'ordinal':\n",
    "            return X_int.astype(self.dtype, copy=False)\n",
    "        mask = X_mask.ravel()\n",
    "        n_values = [cats.shape[0] for cats in self.categories_]\n",
    "        n_values = np.array([0] + n_values)\n",
    "        indices = np.cumsum(n_values)\n",
    "        column_indices = (X_int + indices[:-1]).ravel()[mask]\n",
    "        row_indices = np.repeat(np.arange(n_samples, dtype=np.int32),n_features)[mask]\n",
    "        data = np.ones(n_samples * n_features)[mask]\n",
    "        out = sparse.csc_matrix((data, (row_indices, column_indices)),shape=(n_samples, indices[-1]),dtype=self.dtype).tocsr()\n",
    "        if self.encoding == 'onehot-dense':\n",
    "            return out.toarray()\n",
    "        else:\n",
    "            return out"
   ]
  },
  {
   "cell_type": "code",
   "execution_count": 8,
   "metadata": {
    "collapsed": true
   },
   "outputs": [],
   "source": [
    "data_cat_tr_pcl = train_data[\"Pclass\"]\n",
    "data_cat_tr_emb = train_data[\"Embarked\"]\n",
    "data_cat_tr_sex = train_data[\"Sex\"]\n",
    "data_cat_te_pcl = test_data[\"Pclass\"]\n",
    "data_cat_te_emb = test_data[\"Embarked\"]\n",
    "data_cat_te_sex = test_data[\"Sex\"]"
   ]
  },
  {
   "cell_type": "code",
   "execution_count": 9,
   "metadata": {
    "collapsed": true
   },
   "outputs": [],
   "source": [
    "cat_encoder = CategoricalEncoder(encoding=\"onehot-dense\")\n",
    "data_cat_tr_pcl_1hot = cat_encoder.fit_transform(data_cat_tr_pcl.values.reshape(-1, 1))\n",
    "data_cat_tr_emb_1hot = cat_encoder.fit_transform(data_cat_tr_emb.values.reshape(-1, 1))\n",
    "data_cat_tr_sex_1hot = cat_encoder.fit_transform(data_cat_tr_sex.values.reshape(-1, 1))\n",
    "data_cat_te_pcl_1hot = cat_encoder.fit_transform(data_cat_te_pcl.values.reshape(-1, 1))\n",
    "data_cat_te_emb_1hot = cat_encoder.fit_transform(data_cat_te_emb.values.reshape(-1, 1))\n",
    "data_cat_te_sex_1hot = cat_encoder.fit_transform(data_cat_te_sex.values.reshape(-1, 1))"
   ]
  },
  {
   "cell_type": "code",
   "execution_count": 10,
   "metadata": {
    "collapsed": true
   },
   "outputs": [],
   "source": [
    "#cat_encoder.categories_"
   ]
  },
  {
   "cell_type": "code",
   "execution_count": 11,
   "metadata": {
    "collapsed": true
   },
   "outputs": [],
   "source": [
    "from sklearn.base import BaseEstimator, TransformerMixin\n",
    "class DataFrameSelector(BaseEstimator, TransformerMixin):\n",
    "    def __init__(self, attribute_names):\n",
    "        self.attribute_names = attribute_names\n",
    "    def fit(self, X, y=None):\n",
    "        return self\n",
    "    def transform(self, X):\n",
    "        return X[self.attribute_names].values"
   ]
  },
  {
   "cell_type": "code",
   "execution_count": 12,
   "metadata": {
    "collapsed": true
   },
   "outputs": [],
   "source": [
    "from sklearn.pipeline import Pipeline\n",
    "from sklearn.preprocessing import Imputer,StandardScaler\n",
    "num_attribs = [\"Age\",\"Parch\",\"Fare\",\"SibSp\"]\n",
    "cat_attribs = [\"Pclass\",\"Embarked\",\"Sex\"]\n",
    "num_pipeline = Pipeline([('selector', DataFrameSelector(num_attribs)),\n",
    "        ('imputer', Imputer(strategy=\"median\")),('std_scaler', StandardScaler()),])\n",
    "\n",
    "cat_pipeline = Pipeline([\n",
    "        ('selector', DataFrameSelector(cat_attribs)),('cat_encoder', CategoricalEncoder(encoding=\"onehot-dense\")),])"
   ]
  },
  {
   "cell_type": "code",
   "execution_count": 13,
   "metadata": {
    "collapsed": true
   },
   "outputs": [],
   "source": [
    "from sklearn.pipeline import FeatureUnion\n",
    "full_pipeline = FeatureUnion(transformer_list=[(\"num_pipeline\", num_pipeline),(\"cat_pipeline\", cat_pipeline),])"
   ]
  },
  {
   "cell_type": "code",
   "execution_count": 14,
   "metadata": {
    "collapsed": true
   },
   "outputs": [],
   "source": [
    "Xtr_prepared = full_pipeline.fit_transform(Xtr)\n",
    "Xte_prepared = full_pipeline.fit_transform(Xte)\n",
    "Ytr_prepared = (Ytr[\"Survived\"] == 1).values\n",
    "Yte_prepared = (Yte[\"Survived\"] == 1).values"
   ]
  },
  {
   "cell_type": "code",
   "execution_count": 15,
   "metadata": {},
   "outputs": [
    {
     "data": {
      "text/plain": [
       "RandomForestClassifier(bootstrap=True, class_weight=None, criterion='gini',\n",
       "            max_depth=None, max_features='auto', max_leaf_nodes=None,\n",
       "            min_impurity_decrease=0.0, min_impurity_split=None,\n",
       "            min_samples_leaf=1, min_samples_split=2,\n",
       "            min_weight_fraction_leaf=0.0, n_estimators=10, n_jobs=-1,\n",
       "            oob_score=False, random_state=None, verbose=0,\n",
       "            warm_start=False)"
      ]
     },
     "execution_count": 15,
     "metadata": {},
     "output_type": "execute_result"
    }
   ],
   "source": [
    "from sklearn.svm import SVC,SVR\n",
    "from sklearn.linear_model import LinearRegression\n",
    "from sklearn.tree import DecisionTreeClassifier\n",
    "from sklearn.ensemble import RandomForestClassifier\n",
    "\n",
    "lin_reg = LinearRegression(n_jobs = -1)\n",
    "svm1_class = SVC(kernel=\"linear\",)\n",
    "svm2_class = SVC(kernel=\"rbf\")\n",
    "tree_clf = DecisionTreeClassifier(max_depth=4,)\n",
    "ran_for = RandomForestClassifier(n_jobs = -1)\n",
    "\n",
    "lin_reg.fit(Xtr_prepared,Ytr[\"Survived\"].values)\n",
    "svm1_class.fit(Xtr_prepared,Ytr_prepared)\n",
    "svm2_class.fit(Xtr_prepared,Ytr_prepared)\n",
    "tree_clf.fit(Xtr_prepared,Ytr_prepared)\n",
    "ran_for.fit(Xtr_prepared,Ytr_prepared)"
   ]
  },
  {
   "cell_type": "code",
   "execution_count": 16,
   "metadata": {},
   "outputs": [
    {
     "name": "stdout",
     "output_type": "stream",
     "text": [
      "[False False False False  True  True False False  True False False False\n",
      " False False  True False False  True  True  True False False False False\n",
      " False False  True  True False False  True False  True False False  True\n",
      " False False  True  True False False  True  True  True False False  True\n",
      " False False False  True False  True False False False False False False\n",
      "  True  True  True False False  True False  True  True  True  True False\n",
      " False False  True False False False False False False False False False\n",
      "  True  True False  True False  True  True  True False  True False  True\n",
      " False  True False False False False  True False  True False False False\n",
      "  True False False  True False False  True  True False False  True  True\n",
      " False False  True False  True  True False False False  True False False\n",
      " False False False False  True False False  True  True  True  True  True\n",
      " False  True  True False False  True False False  True  True False False\n",
      "  True False  True False False  True False False False  True  True  True\n",
      " False  True False False False False  True False]\n"
     ]
    }
   ],
   "source": [
    "Ypredlin = lin_reg.predict(Xte_prepared)\n",
    "Ypredsvm1 = svm1_class.predict(Xte_prepared)\n",
    "Ypredsvm2 = svm2_class.predict(Xte_prepared)\n",
    "Ypredtree = tree_clf.predict(Xte_prepared)\n",
    "Ypredfor = ran_for.predict(Xte_prepared)\n",
    "print(Ypredfor)"
   ]
  },
  {
   "cell_type": "code",
   "execution_count": 17,
   "metadata": {},
   "outputs": [
    {
     "data": {
      "text/plain": [
       "array([[377,  57],\n",
       "       [ 92, 185]])"
      ]
     },
     "execution_count": 17,
     "metadata": {},
     "output_type": "execute_result"
    }
   ],
   "source": [
    "from sklearn.metrics import confusion_matrix\n",
    "from sklearn.model_selection import cross_val_predict\n",
    "\n",
    "Y_tr_pred = cross_val_predict(ran_for, Xtr_prepared,Ytr_prepared, cv=3)\n",
    "confusion_matrix(Ytr_prepared, Y_tr_pred)"
   ]
  },
  {
   "cell_type": "code",
   "execution_count": 18,
   "metadata": {},
   "outputs": [
    {
     "data": {
      "text/plain": [
       "0.7644628099173554"
      ]
     },
     "execution_count": 18,
     "metadata": {},
     "output_type": "execute_result"
    }
   ],
   "source": [
    "from sklearn.metrics import precision_score, recall_score, f1_score\n",
    "precision_score(Ytr_prepared, Y_tr_pred)"
   ]
  },
  {
   "cell_type": "code",
   "execution_count": 19,
   "metadata": {},
   "outputs": [
    {
     "data": {
      "text/plain": [
       "0.6678700361010831"
      ]
     },
     "execution_count": 19,
     "metadata": {},
     "output_type": "execute_result"
    }
   ],
   "source": [
    "recall_score(Ytr_prepared, Y_tr_pred)"
   ]
  },
  {
   "cell_type": "code",
   "execution_count": 20,
   "metadata": {},
   "outputs": [
    {
     "data": {
      "text/plain": [
       "0.7129094412331407"
      ]
     },
     "execution_count": 20,
     "metadata": {},
     "output_type": "execute_result"
    }
   ],
   "source": [
    "f1_score(Ytr_prepared, Y_tr_pred)"
   ]
  },
  {
   "cell_type": "code",
   "execution_count": null,
   "metadata": {
    "collapsed": true
   },
   "outputs": [],
   "source": []
  },
  {
   "cell_type": "code",
   "execution_count": null,
   "metadata": {
    "collapsed": true
   },
   "outputs": [],
   "source": []
  }
 ],
 "metadata": {
  "kernelspec": {
   "display_name": "Python 3",
   "language": "python",
   "name": "python3"
  },
  "language_info": {
   "codemirror_mode": {
    "name": "ipython",
    "version": 3
   },
   "file_extension": ".py",
   "mimetype": "text/x-python",
   "name": "python",
   "nbconvert_exporter": "python",
   "pygments_lexer": "ipython3",
   "version": "3.6.3"
  }
 },
 "nbformat": 4,
 "nbformat_minor": 2
}
